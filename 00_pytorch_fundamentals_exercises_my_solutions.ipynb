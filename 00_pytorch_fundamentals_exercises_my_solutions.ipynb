{
  "nbformat": 4,
  "nbformat_minor": 0,
  "metadata": {
    "colab": {
      "provenance": [],
      "gpuType": "T4",
      "include_colab_link": true
    },
    "kernelspec": {
      "name": "python3",
      "display_name": "Python 3"
    },
    "language_info": {
      "name": "python"
    },
    "accelerator": "GPU",
    "gpuClass": "standard"
  },
  "cells": [
    {
      "cell_type": "markdown",
      "metadata": {
        "id": "view-in-github",
        "colab_type": "text"
      },
      "source": [
        "<a href=\"https://colab.research.google.com/github/salmanmkc/-mgt-Adding-Simple-Provider/blob/master/00_pytorch_fundamentals_exercises_my_solutions.ipynb\" target=\"_parent\"><img src=\"https://colab.research.google.com/assets/colab-badge.svg\" alt=\"Open In Colab\"/></a>"
      ]
    },
    {
      "cell_type": "markdown",
      "source": [
        "# 00. PyTorch Fundamentals Exercises\n",
        "\n",
        "### 1. Documentation reading \n",
        "\n",
        "A big part of deep learning (and learning to code in general) is getting familiar with the documentation of a certain framework you're using. We'll be using the PyTorch documentation a lot throughout the rest of this course. So I'd recommend spending 10-minutes reading the following (it's okay if you don't get some things for now, the focus is not yet full understanding, it's awareness):\n",
        "  * The documentation on [`torch.Tensor`](https://pytorch.org/docs/stable/tensors.html#torch-tensor).\n",
        "  * The documentation on [`torch.cuda`](https://pytorch.org/docs/master/notes/cuda.html#cuda-semantics).\n",
        "\n"
      ],
      "metadata": {
        "id": "AzDBM_v4iMe7"
      }
    },
    {
      "cell_type": "code",
      "source": [
        "# No code solution (reading)"
      ],
      "metadata": {
        "id": "bGD0oD8Kizak"
      },
      "execution_count": null,
      "outputs": []
    },
    {
      "cell_type": "markdown",
      "source": [
        "### 2. Create a random tensor with shape `(7, 7)`.\n"
      ],
      "metadata": {
        "id": "__iXqqz-ioUJ"
      }
    },
    {
      "cell_type": "code",
      "source": [
        "# Import torch\n",
        "import torch\n",
        "\n",
        "# Create random tensor\n",
        "random = torch.rand(7, 7)\n",
        "\n",
        "random\n",
        "random.size() # can also do random.shape"
      ],
      "metadata": {
        "id": "6pUq9Dc8i2L7",
        "outputId": "1fd26dc2-2bf1-4c61-c3bd-aeba028983ad",
        "colab": {
          "base_uri": "https://localhost:8080/"
        }
      },
      "execution_count": null,
      "outputs": [
        {
          "output_type": "execute_result",
          "data": {
            "text/plain": [
              "torch.Size([7, 7])"
            ]
          },
          "metadata": {},
          "execution_count": 6
        }
      ]
    },
    {
      "cell_type": "markdown",
      "source": [
        "### 3. Perform a matrix multiplication on the tensor from 2 with another random tensor with shape `(1, 7)` (hint: you may have to transpose the second tensor)."
      ],
      "metadata": {
        "id": "9-XxvRLfiqkR"
      }
    },
    {
      "cell_type": "code",
      "source": [
        "# Create another random tensor\n",
        "random_2 = torch.rand(1, 7)\n",
        "\n",
        "\n",
        "# Perform matrix multiplication ]\n",
        "\n",
        "# THIS WORKS\n",
        "# torch.mm(random, random_2.T)\n",
        "\n",
        "# another way to do this\n",
        "print(random_2)\n",
        "print(random_2.T)\n",
        "print(torch.transpose(random_2, 0, 1))\n",
        "# the 2nd and third parameters are the dimensions to swap\n",
        "print(random_2.T == torch.transpose(random_2, 0, 1))\n",
        "# torch.mm(random, torch.transpose(random_2, 0, 1))"
      ],
      "metadata": {
        "id": "NcLqR0Sbi_vT",
        "outputId": "ded89dbb-14e4-417c-a665-3a7ab0ae5b31",
        "colab": {
          "base_uri": "https://localhost:8080/"
        }
      },
      "execution_count": null,
      "outputs": [
        {
          "output_type": "stream",
          "name": "stdout",
          "text": [
            "tensor([[0.5949, 0.7956, 0.7635, 0.2137, 0.3066, 0.0386, 0.5220]])\n",
            "tensor([[0.5949],\n",
            "        [0.7956],\n",
            "        [0.7635],\n",
            "        [0.2137],\n",
            "        [0.3066],\n",
            "        [0.0386],\n",
            "        [0.5220]])\n",
            "tensor([[0.5949],\n",
            "        [0.7956],\n",
            "        [0.7635],\n",
            "        [0.2137],\n",
            "        [0.3066],\n",
            "        [0.0386],\n",
            "        [0.5220]])\n",
            "tensor([[True],\n",
            "        [True],\n",
            "        [True],\n",
            "        [True],\n",
            "        [True],\n",
            "        [True],\n",
            "        [True]])\n"
          ]
        }
      ]
    },
    {
      "cell_type": "markdown",
      "source": [
        "### 4. Set the random seed to `0` and do 2 & 3 over again.\n",
        "\n",
        "The output should be:\n",
        "```\n",
        "(tensor([[1.8542],\n",
        "         [1.9611],\n",
        "         [2.2884],\n",
        "         [3.0481],\n",
        "         [1.7067],\n",
        "         [2.5290],\n",
        "         [1.7989]]), torch.Size([7, 1]))\n",
        "```"
      ],
      "metadata": {
        "id": "eiutdKUFiryU"
      }
    },
    {
      "cell_type": "code",
      "source": [
        "# Set manual seed\n",
        "RANDOM_SEED = 0\n",
        "torch.manual_seed(seed=RANDOM_SEED)\n",
        "\n",
        "# Create two random tensors\n",
        "random_tensor_3 = torch.rand(7, 7)\n",
        "print(random_tensor_3)\n",
        "\n",
        "torch.manual_seed(seed=RANDOM_SEED)\n",
        "random_tensor_4 = torch.rand(1, 7)\n",
        "print(random_tensor_4)\n",
        "# Matrix multiply tensors\n",
        "# tranpose the second tensor in this\n",
        "\n",
        "#first easier way\n",
        "first_mm = torch.mm(random_tensor_3, random_tensor_4.T)\n",
        "second_mm = torch.mm(random_tensor_3, torch.transpose(random_tensor_4, 0, 1))\n",
        "\n",
        "print(first_mm)\n",
        "print(second_mm)\n",
        "print(first_mm == second_mm)"
      ],
      "metadata": {
        "id": "D-lOWI_1jRMm",
        "outputId": "5af00a98-e461-43dc-d5da-85b8fb97d94d",
        "colab": {
          "base_uri": "https://localhost:8080/"
        }
      },
      "execution_count": null,
      "outputs": [
        {
          "output_type": "stream",
          "name": "stdout",
          "text": [
            "tensor([[0.4963, 0.7682, 0.0885, 0.1320, 0.3074, 0.6341, 0.4901],\n",
            "        [0.8964, 0.4556, 0.6323, 0.3489, 0.4017, 0.0223, 0.1689],\n",
            "        [0.2939, 0.5185, 0.6977, 0.8000, 0.1610, 0.2823, 0.6816],\n",
            "        [0.9152, 0.3971, 0.8742, 0.4194, 0.5529, 0.9527, 0.0362],\n",
            "        [0.1852, 0.3734, 0.3051, 0.9320, 0.1759, 0.2698, 0.1507],\n",
            "        [0.0317, 0.2081, 0.9298, 0.7231, 0.7423, 0.5263, 0.2437],\n",
            "        [0.5846, 0.0332, 0.1387, 0.2422, 0.8155, 0.7932, 0.2783]])\n",
            "tensor([[0.4963, 0.7682, 0.0885, 0.1320, 0.3074, 0.6341, 0.4901]])\n",
            "tensor([[1.5985],\n",
            "        [1.1173],\n",
            "        [1.2741],\n",
            "        [1.6838],\n",
            "        [0.8279],\n",
            "        [1.0347],\n",
            "        [1.2498]])\n",
            "tensor([[1.5985],\n",
            "        [1.1173],\n",
            "        [1.2741],\n",
            "        [1.6838],\n",
            "        [0.8279],\n",
            "        [1.0347],\n",
            "        [1.2498]])\n",
            "tensor([[True],\n",
            "        [True],\n",
            "        [True],\n",
            "        [True],\n",
            "        [True],\n",
            "        [True],\n",
            "        [True]])\n"
          ]
        }
      ]
    },
    {
      "cell_type": "code",
      "source": [
        "random_tensor_4 = torch.rand(1, 7)\n",
        "print(random_tensor_4)"
      ],
      "metadata": {
        "id": "VU4r5lmNTTtL",
        "outputId": "aabf6ba7-3cf6-41ab-caef-1d5c2a7465ec",
        "colab": {
          "base_uri": "https://localhost:8080/"
        }
      },
      "execution_count": null,
      "outputs": [
        {
          "output_type": "stream",
          "name": "stdout",
          "text": [
            "tensor([[0.1100, 0.2121, 0.9704, 0.8369, 0.2820, 0.3742, 0.0237]])\n"
          ]
        }
      ]
    },
    {
      "cell_type": "markdown",
      "source": [
        "### 5. Speaking of random seeds, we saw how to set it with `torch.manual_seed()` but is there a GPU equivalent? (hint: you'll need to look into the documentation for `torch.cuda` for this one)\n",
        "  * If there is, set the GPU random seed to `1234`."
      ],
      "metadata": {
        "id": "ezY6ks9Cis37"
      }
    },
    {
      "cell_type": "code",
      "source": [
        "# Set random seed on the GPU\n",
        "MANUAL_SEED = 1234\n",
        "torch.cuda.manual_seed(seed=MANUAL_SEED)"
      ],
      "metadata": {
        "id": "_LKWcfSTjp00"
      },
      "execution_count": null,
      "outputs": []
    },
    {
      "cell_type": "markdown",
      "source": [
        "\n",
        "### 6. Create two random tensors of shape `(2, 3)` and send them both to the GPU (you'll need access to a GPU for this). Set `torch.manual_seed(1234)` when creating the tensors (this doesn't have to be the GPU random seed). The output should be something like:\n",
        "\n",
        "```\n",
        "Device: cuda\n",
        "(tensor([[0.0290, 0.4019, 0.2598],\n",
        "         [0.3666, 0.0583, 0.7006]], device='cuda:0'),\n",
        " tensor([[0.0518, 0.4681, 0.6738],\n",
        "         [0.3315, 0.7837, 0.5631]], device='cuda:0'))\n",
        "```"
      ],
      "metadata": {
        "id": "Ir9qSaj6it4n"
      }
    },
    {
      "cell_type": "code",
      "source": [
        "# Set random seed\n",
        "\n",
        "\n",
        "# Check for access to GPU\n",
        "device = \"cuda\" if torch.cuda.is_available() else \"cpu\"\n",
        "\n",
        "\n",
        "\n",
        "# Create two random tensors on GPU\n",
        "torch.cuda.manual_seed(seed=MANUAL_SEED)\n",
        "randomOnGpu = torch.rand(12, 12, device=device)\n",
        "print(randomOnGpu)\n",
        "\n",
        "torch.cuda.manual_seed(seed=MANUAL_SEED)\n",
        "randomOnGpu2 = torch.rand(12, 6, device=device)\n",
        "\n"
      ],
      "metadata": {
        "id": "azXExiFZj5nm",
        "outputId": "e08a7290-9ccd-438c-a64c-29a42e519445",
        "colab": {
          "base_uri": "https://localhost:8080/"
        }
      },
      "execution_count": null,
      "outputs": [
        {
          "output_type": "stream",
          "name": "stdout",
          "text": [
            "tensor([[0.1272, 0.8167, 0.5440, 0.6601, 0.2721, 0.9737, 0.3903, 0.3394, 0.5451,\n",
            "         0.7312, 0.3864, 0.5959],\n",
            "        [0.7578, 0.2126, 0.7198, 0.9845, 0.5518, 0.0981, 0.0582, 0.5839, 0.1083,\n",
            "         0.9461, 0.3170, 0.8328],\n",
            "        [0.6676, 0.2886, 0.9022, 0.8115, 0.1784, 0.9534, 0.1486, 0.3882, 0.7977,\n",
            "         0.1752, 0.5777, 0.1949],\n",
            "        [0.8499, 0.3125, 0.2156, 0.0383, 0.4934, 0.3138, 0.3121, 0.5664, 0.1266,\n",
            "         0.7097, 0.0040, 0.5147],\n",
            "        [0.2811, 0.4441, 0.0915, 0.3322, 0.3984, 0.9881, 0.0936, 0.3067, 0.0523,\n",
            "         0.2162, 0.0307, 0.4602],\n",
            "        [0.1048, 0.1429, 0.7458, 0.5464, 0.6944, 0.8088, 0.2945, 0.8648, 0.1688,\n",
            "         0.3534, 0.3706, 0.5675],\n",
            "        [0.9595, 0.6452, 0.7709, 0.2298, 0.1510, 0.2425, 0.8819, 0.5867, 0.1070,\n",
            "         0.6552, 0.2062, 0.3814],\n",
            "        [0.6594, 0.4250, 0.4623, 0.7210, 0.9497, 0.3176, 0.1693, 0.5473, 0.4224,\n",
            "         0.8215, 0.6750, 0.6834],\n",
            "        [0.0144, 0.0734, 0.5473, 0.5675, 0.3279, 0.3553, 0.0989, 0.7877, 0.1829,\n",
            "         0.4038, 0.6456, 0.5410],\n",
            "        [0.4825, 0.8073, 0.5965, 0.1998, 0.0213, 0.4578, 0.3320, 0.4574, 0.9217,\n",
            "         0.1174, 0.9045, 0.6835],\n",
            "        [0.9073, 0.2362, 0.7476, 0.6170, 0.6062, 0.3973, 0.0244, 0.7687, 0.7982,\n",
            "         0.0297, 0.7761, 0.3535],\n",
            "        [0.8531, 0.0191, 0.7934, 0.8303, 0.0183, 0.5728, 0.6535, 0.3997, 0.6590,\n",
            "         0.0162, 0.3054, 0.4901]], device='cuda:0')\n",
            "\n",
            "Multiplied\n",
            "tensor([[1.9874, 2.6898, 2.6037, 3.2494, 2.3935, 3.4859],\n",
            "        [1.7943, 3.0690, 2.2518, 3.8855, 1.7848, 3.8905],\n",
            "        [1.7954, 2.6560, 2.8064, 3.5882, 2.5025, 3.6355],\n",
            "        [1.4679, 2.2706, 1.7651, 2.2869, 1.1745, 2.7349],\n",
            "        [1.0596, 1.7872, 1.8202, 1.8759, 1.3127, 2.0208],\n",
            "        [2.0567, 2.4350, 2.5817, 3.2907, 1.9542, 3.0238],\n",
            "        [2.2663, 2.6541, 2.3098, 3.1213, 1.9605, 3.1461],\n",
            "        [2.1057, 3.0894, 2.9175, 4.0328, 2.1815, 4.5724],\n",
            "        [1.3961, 1.9592, 1.8143, 2.7222, 1.5641, 2.5982],\n",
            "        [1.9136, 2.6241, 2.5480, 3.1874, 2.5220, 3.7092],\n",
            "        [1.9471, 2.8929, 2.9068, 4.0200, 2.2879, 4.3008],\n",
            "        [1.9062, 2.7801, 2.1721, 3.1302, 2.2555, 3.3350]], device='cuda:0')\n"
          ]
        }
      ]
    },
    {
      "cell_type": "markdown",
      "source": [
        "\n",
        "### 7. Perform a matrix multiplication on the tensors you created in 6 (again, you may have to adjust the shapes of one of the tensors).\n",
        "\n",
        "The output should look like:\n",
        "```\n",
        "(tensor([[0.3647, 0.4709],\n",
        "         [0.5184, 0.5617]], device='cuda:0'), torch.Size([2, 2]))\n",
        "```"
      ],
      "metadata": {
        "id": "5TlAxeiSiu1y"
      }
    },
    {
      "cell_type": "code",
      "source": [
        "# Perform matmul on tensor_A and tensor_B\n",
        "multiplied = torch.mm(randomOnGpu, randomOnGpu2)\n",
        "\n",
        "print('\\nMultiplied')\n",
        "print(multiplied)\n"
      ],
      "metadata": {
        "id": "fAeG7ox0lHEO",
        "outputId": "7c215a41-07ee-4277-f1fa-808bd05279a4",
        "colab": {
          "base_uri": "https://localhost:8080/"
        }
      },
      "execution_count": null,
      "outputs": [
        {
          "output_type": "stream",
          "name": "stdout",
          "text": [
            "\n",
            "Multiplied\n",
            "tensor([[1.9874, 2.6898, 2.6037, 3.2494, 2.3935, 3.4859],\n",
            "        [1.7943, 3.0690, 2.2518, 3.8855, 1.7848, 3.8905],\n",
            "        [1.7954, 2.6560, 2.8064, 3.5882, 2.5025, 3.6355],\n",
            "        [1.4679, 2.2706, 1.7651, 2.2869, 1.1745, 2.7349],\n",
            "        [1.0596, 1.7872, 1.8202, 1.8759, 1.3127, 2.0208],\n",
            "        [2.0567, 2.4350, 2.5817, 3.2907, 1.9542, 3.0238],\n",
            "        [2.2663, 2.6541, 2.3098, 3.1213, 1.9605, 3.1461],\n",
            "        [2.1057, 3.0894, 2.9175, 4.0328, 2.1815, 4.5724],\n",
            "        [1.3961, 1.9592, 1.8143, 2.7222, 1.5641, 2.5982],\n",
            "        [1.9136, 2.6241, 2.5480, 3.1874, 2.5220, 3.7092],\n",
            "        [1.9471, 2.8929, 2.9068, 4.0200, 2.2879, 4.3008],\n",
            "        [1.9062, 2.7801, 2.1721, 3.1302, 2.2555, 3.3350]], device='cuda:0')\n"
          ]
        }
      ]
    },
    {
      "cell_type": "markdown",
      "source": [
        "### 8. Find the maximum and minimum values of the output of 7."
      ],
      "metadata": {
        "id": "G7qfa5CSivwg"
      }
    },
    {
      "cell_type": "code",
      "source": [
        "# Find max\n",
        "print(torch.max(multiplied))\n",
        "# Find min\n",
        "print(torch.min(multiplied))\n"
      ],
      "metadata": {
        "id": "Fu8_3mZpllOd",
        "outputId": "a4766ba8-b134-4c10-810a-ccd96e7e7971",
        "colab": {
          "base_uri": "https://localhost:8080/"
        }
      },
      "execution_count": null,
      "outputs": [
        {
          "output_type": "stream",
          "name": "stdout",
          "text": [
            "tensor(4.5724, device='cuda:0')\n",
            "tensor(1.0596, device='cuda:0')\n"
          ]
        }
      ]
    },
    {
      "cell_type": "markdown",
      "source": [
        "### 9. Find the maximum and minimum index values of the output of 7."
      ],
      "metadata": {
        "id": "wrTj5FgNiw47"
      }
    },
    {
      "cell_type": "code",
      "source": [
        "# Find arg max - two ways\n",
        "print(torch.argmax(multiplied))\n",
        "print(multiplied.argmax())\n",
        "\n",
        "# Find arg min - two ways\n",
        "print(torch.argmin(multiplied))\n",
        "print(multiplied.argmin())"
      ],
      "metadata": {
        "id": "CCEKt4K2lsfQ",
        "outputId": "625c098a-8509-43c8-e1e4-1ce416b6b294",
        "colab": {
          "base_uri": "https://localhost:8080/"
        }
      },
      "execution_count": null,
      "outputs": [
        {
          "output_type": "stream",
          "name": "stdout",
          "text": [
            "tensor(47, device='cuda:0')\n",
            "tensor(47, device='cuda:0')\n",
            "tensor(24, device='cuda:0')\n",
            "tensor(24, device='cuda:0')\n"
          ]
        }
      ]
    },
    {
      "cell_type": "markdown",
      "source": [
        "\n",
        "### 10. Make a random tensor with shape `(1, 1, 1, 10)` and then create a new tensor with all the `1` dimensions removed to be left with a tensor of shape `(10)`. Set the seed to `7` when you create it and print out the first tensor and it's shape as well as the second tensor and it's shape.\n",
        "\n",
        "The output should look like:\n",
        "\n",
        "```\n",
        "tensor([[[[0.5349, 0.1988, 0.6592, 0.6569, 0.2328, 0.4251, 0.2071, 0.6297,\n",
        "           0.3653, 0.8513]]]]) torch.Size([1, 1, 1, 10])\n",
        "tensor([0.5349, 0.1988, 0.6592, 0.6569, 0.2328, 0.4251, 0.2071, 0.6297, 0.3653,\n",
        "        0.8513]) torch.Size([10])\n",
        "```"
      ],
      "metadata": {
        "id": "hmeybz4uixy7"
      }
    },
    {
      "cell_type": "code",
      "source": [
        "# Set seed\n",
        "MANUAL_SEED = 7\n",
        "\n",
        "\n",
        "# Create random tensor\n",
        "random_tensor_5 = torch.rand(1, 1, 1, 10)\n",
        "print(random_tensor_5)\n",
        "\n",
        "# Remove single dimensions\n",
        "removed_all_single_dimensions = random_tensor_5.squeeze()\n",
        "print(removed_all_single_dimensions)\n",
        "\n",
        "# Print out tensors and their shapes\n",
        "print('\\n\\nBefore squeezing/removing all 1 dimensions')\n",
        "print(random_tensor_5)\n",
        "print(random_tensor_5.size())\n",
        "\n",
        "print('\\nAfter squeeinzg/removing all 1 dimensions')\n",
        "print(removed_all_single_dimensions)\n",
        "print(removed_all_single_dimensions.size())\n",
        "\n"
      ],
      "metadata": {
        "id": "TQ9zbRzVl1jV",
        "outputId": "8f18f05e-18d3-4075-96a4-9f58cb4e6f9d",
        "colab": {
          "base_uri": "https://localhost:8080/"
        }
      },
      "execution_count": null,
      "outputs": [
        {
          "output_type": "stream",
          "name": "stdout",
          "text": [
            "tensor([[[[0.4012, 0.5627, 0.3858, 0.4965, 0.5638, 0.1089, 0.2379, 0.9037,\n",
            "           0.0942, 0.4641]]]])\n",
            "tensor([0.4012, 0.5627, 0.3858, 0.4965, 0.5638, 0.1089, 0.2379, 0.9037, 0.0942,\n",
            "        0.4641])\n",
            "\n",
            "\n",
            "Before squeezing/removing all 1 dimensions\n",
            "tensor([[[[0.4012, 0.5627, 0.3858, 0.4965, 0.5638, 0.1089, 0.2379, 0.9037,\n",
            "           0.0942, 0.4641]]]])\n",
            "torch.Size([1, 1, 1, 10])\n",
            "\n",
            "After squeeinzg/removing all 1 dimensions\n",
            "tensor([0.4012, 0.5627, 0.3858, 0.4965, 0.5638, 0.1089, 0.2379, 0.9037, 0.0942,\n",
            "        0.4641])\n",
            "torch.Size([10])\n"
          ]
        }
      ]
    },
    {
      "cell_type": "code",
      "source": [],
      "metadata": {
        "id": "abaD0XTuihGo"
      },
      "execution_count": null,
      "outputs": []
    }
  ]
}